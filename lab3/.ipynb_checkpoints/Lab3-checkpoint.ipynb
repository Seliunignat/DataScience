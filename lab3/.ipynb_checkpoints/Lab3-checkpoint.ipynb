{
 "cells": [
  {
   "cell_type": "code",
   "execution_count": 2,
   "id": "673e4569-5504-4d68-ac9c-27e9f35a5407",
   "metadata": {},
   "outputs": [],
   "source": [
    "import nltk\n",
    "import pandas as pd\n",
    "import seaborn as sns\n",
    "from matplotlib import pyplot as plt\n",
    "import string\n"
   ]
  },
  {
   "cell_type": "code",
   "execution_count": 2,
   "id": "dd163b7b-874a-4334-a022-24778ef123c6",
   "metadata": {},
   "outputs": [],
   "source": [
    "data_from_file = pd.read_csv(\"completeSpamAssassin.csv\", thousands=\",\")"
   ]
  },
  {
   "cell_type": "code",
   "execution_count": 3,
   "id": "d045e606-ab15-4fbf-a45a-fe8799168dc4",
   "metadata": {},
   "outputs": [
    {
     "data": {
      "text/html": [
       "<div>\n",
       "<style scoped>\n",
       "    .dataframe tbody tr th:only-of-type {\n",
       "        vertical-align: middle;\n",
       "    }\n",
       "\n",
       "    .dataframe tbody tr th {\n",
       "        vertical-align: top;\n",
       "    }\n",
       "\n",
       "    .dataframe thead th {\n",
       "        text-align: right;\n",
       "    }\n",
       "</style>\n",
       "<table border=\"1\" class=\"dataframe\">\n",
       "  <thead>\n",
       "    <tr style=\"text-align: right;\">\n",
       "      <th></th>\n",
       "      <th>Unnamed: 0</th>\n",
       "      <th>Label</th>\n",
       "    </tr>\n",
       "  </thead>\n",
       "  <tbody>\n",
       "    <tr>\n",
       "      <th>count</th>\n",
       "      <td>6046.000000</td>\n",
       "      <td>6046.000000</td>\n",
       "    </tr>\n",
       "    <tr>\n",
       "      <th>mean</th>\n",
       "      <td>3022.500000</td>\n",
       "      <td>0.313596</td>\n",
       "    </tr>\n",
       "    <tr>\n",
       "      <th>std</th>\n",
       "      <td>1745.474195</td>\n",
       "      <td>0.463993</td>\n",
       "    </tr>\n",
       "    <tr>\n",
       "      <th>min</th>\n",
       "      <td>0.000000</td>\n",
       "      <td>0.000000</td>\n",
       "    </tr>\n",
       "    <tr>\n",
       "      <th>25%</th>\n",
       "      <td>1511.250000</td>\n",
       "      <td>0.000000</td>\n",
       "    </tr>\n",
       "    <tr>\n",
       "      <th>50%</th>\n",
       "      <td>3022.500000</td>\n",
       "      <td>0.000000</td>\n",
       "    </tr>\n",
       "    <tr>\n",
       "      <th>75%</th>\n",
       "      <td>4533.750000</td>\n",
       "      <td>1.000000</td>\n",
       "    </tr>\n",
       "    <tr>\n",
       "      <th>max</th>\n",
       "      <td>6045.000000</td>\n",
       "      <td>1.000000</td>\n",
       "    </tr>\n",
       "  </tbody>\n",
       "</table>\n",
       "</div>"
      ],
      "text/plain": [
       "        Unnamed: 0        Label\n",
       "count  6046.000000  6046.000000\n",
       "mean   3022.500000     0.313596\n",
       "std    1745.474195     0.463993\n",
       "min       0.000000     0.000000\n",
       "25%    1511.250000     0.000000\n",
       "50%    3022.500000     0.000000\n",
       "75%    4533.750000     1.000000\n",
       "max    6045.000000     1.000000"
      ]
     },
     "execution_count": 3,
     "metadata": {},
     "output_type": "execute_result"
    }
   ],
   "source": [
    "data = data_from_file\n",
    "data.describe()"
   ]
  },
  {
   "cell_type": "code",
   "execution_count": 4,
   "id": "67ef4118-5256-4c22-ada0-d43c69c31be3",
   "metadata": {},
   "outputs": [
    {
     "data": {
      "text/plain": [
       "0       \\nSave up to 70% on Life Insurance.\\nWhy Spend...\n",
       "1       1) Fight The Risk of Cancer!\\nhttp://www.adcli...\n",
       "2       1) Fight The Risk of Cancer!\\nhttp://www.adcli...\n",
       "3       ##############################################...\n",
       "4       I thought you might like these:\\n1) Slim Down ...\n",
       "                              ...                        \n",
       "6041                                                empty\n",
       "6042                      ___           ___           ...\n",
       "6043    IN THIS ISSUE:01. Readers write\\n02. Extension...\n",
       "6044                                                empty\n",
       "6045                                                empty\n",
       "Name: Body, Length: 6046, dtype: object"
      ]
     },
     "execution_count": 4,
     "metadata": {},
     "output_type": "execute_result"
    }
   ],
   "source": [
    "data['Body']"
   ]
  },
  {
   "cell_type": "code",
   "execution_count": 5,
   "id": "4af17e8d-24b8-4686-bef6-f9b6da102aff",
   "metadata": {},
   "outputs": [
    {
     "data": {
      "text/plain": [
       "Unnamed: 0     int64\n",
       "Body          object\n",
       "Label          int64\n",
       "dtype: object"
      ]
     },
     "execution_count": 5,
     "metadata": {},
     "output_type": "execute_result"
    }
   ],
   "source": [
    "data.dtypes"
   ]
  },
  {
   "cell_type": "code",
   "execution_count": 6,
   "id": "889dfdbd-25a5-4d8c-9641-208605f5984e",
   "metadata": {},
   "outputs": [],
   "source": [
    "sentences = data['Body'].astype('str')\n",
    "labels = data['Label']"
   ]
  },
  {
   "cell_type": "code",
   "execution_count": 7,
   "id": "5b44e677-764f-486a-8daa-293a94cb2224",
   "metadata": {},
   "outputs": [
    {
     "data": {
      "text/plain": [
       "6046"
      ]
     },
     "execution_count": 7,
     "metadata": {},
     "output_type": "execute_result"
    }
   ],
   "source": [
    "sentences.size"
   ]
  },
  {
   "cell_type": "code",
   "execution_count": 10,
   "id": "bceff79b-4d6e-478a-bd4c-46c31f3a262f",
   "metadata": {},
   "outputs": [
    {
     "name": "stdout",
     "output_type": "stream",
     "text": [
      "['i', 'me', 'my', 'myself', 'we', 'our', 'ours', 'ourselves', 'you', \"you're\", \"you've\", \"you'll\", \"you'd\", 'your', 'yours', 'yourself', 'yourselves', 'he', 'him', 'his', 'himself', 'she', \"she's\", 'her', 'hers', 'herself', 'it', \"it's\", 'its', 'itself', 'they', 'them', 'their', 'theirs', 'themselves', 'what', 'which', 'who', 'whom', 'this', 'that', \"that'll\", 'these', 'those', 'am', 'is', 'are', 'was', 'were', 'be', 'been', 'being', 'have', 'has', 'had', 'having', 'do', 'does', 'did', 'doing', 'a', 'an', 'the', 'and', 'but', 'if', 'or', 'because', 'as', 'until', 'while', 'of', 'at', 'by', 'for', 'with', 'about', 'against', 'between', 'into', 'through', 'during', 'before', 'after', 'above', 'below', 'to', 'from', 'up', 'down', 'in', 'out', 'on', 'off', 'over', 'under', 'again', 'further', 'then', 'once', 'here', 'there', 'when', 'where', 'why', 'how', 'all', 'any', 'both', 'each', 'few', 'more', 'most', 'other', 'some', 'such', 'no', 'nor', 'not', 'only', 'own', 'same', 'so', 'than', 'too', 'very', 's', 't', 'can', 'will', 'just', 'don', \"don't\", 'should', \"should've\", 'now', 'd', 'll', 'm', 'o', 're', 've', 'y', 'ain', 'aren', \"aren't\", 'couldn', \"couldn't\", 'didn', \"didn't\", 'doesn', \"doesn't\", 'hadn', \"hadn't\", 'hasn', \"hasn't\", 'haven', \"haven't\", 'isn', \"isn't\", 'ma', 'mightn', \"mightn't\", 'mustn', \"mustn't\", 'needn', \"needn't\", 'shan', \"shan't\", 'shouldn', \"shouldn't\", 'wasn', \"wasn't\", 'weren', \"weren't\", 'won', \"won't\", 'wouldn', \"wouldn't\"]\n"
     ]
    }
   ],
   "source": [
    "from nltk.corpus import stopwords\n",
    "print(stopwords.words('english'))"
   ]
  },
  {
   "cell_type": "code",
   "execution_count": 9,
   "id": "b88c9268-12d9-4891-b5ea-060405cd57d4",
   "metadata": {},
   "outputs": [
    {
     "ename": "NameError",
     "evalue": "name 'stopwords' is not defined",
     "output_type": "error",
     "traceback": [
      "\u001b[1;31m---------------------------------------------------------------------------\u001b[0m",
      "\u001b[1;31mNameError\u001b[0m                                 Traceback (most recent call last)",
      "Input \u001b[1;32mIn [9]\u001b[0m, in \u001b[0;36m<cell line: 1>\u001b[1;34m()\u001b[0m\n\u001b[1;32m----> 1\u001b[0m stop_words \u001b[38;5;241m=\u001b[39m \u001b[38;5;28mset\u001b[39m(\u001b[43mstopwords\u001b[49m\u001b[38;5;241m.\u001b[39mwords(\u001b[38;5;124m'\u001b[39m\u001b[38;5;124menglish\u001b[39m\u001b[38;5;124m'\u001b[39m))\n",
      "\u001b[1;31mNameError\u001b[0m: name 'stopwords' is not defined"
     ]
    }
   ],
   "source": [
    "stop_words = set(stopwords.words('english'))"
   ]
  },
  {
   "cell_type": "code",
   "execution_count": 10,
   "id": "9ec1c3e4-8088-4a5e-b107-506657b8fa61",
   "metadata": {},
   "outputs": [],
   "source": [
    "def text_process(text):\n",
    "    text = text.translate(str.maketrans('', '', string.punctuation))\n",
    "    text = [word for word in text.split() if word.lower() not in stopwords.words('english')]\n",
    "    return \" \".join(text)"
   ]
  },
  {
   "cell_type": "code",
   "execution_count": 11,
   "id": "2b5c5a1b-e01c-4b11-8010-f3069f32cb45",
   "metadata": {},
   "outputs": [],
   "source": [
    "text_feat = sentences.apply(text_process)"
   ]
  },
  {
   "cell_type": "code",
   "execution_count": 12,
   "id": "c1092d7f-9223-4d86-a3ec-168c7859ea7b",
   "metadata": {},
   "outputs": [],
   "source": [
    "from sklearn.feature_extraction.text import TfidfVectorizer\n",
    "vectorizer = TfidfVectorizer()\n",
    "features = vectorizer.fit_transform(text_feat)"
   ]
  },
  {
   "cell_type": "code",
   "execution_count": 13,
   "id": "1c4170cc-70da-4d44-b21e-b3e53b707f96",
   "metadata": {},
   "outputs": [],
   "source": [
    "from sklearn.model_selection import train_test_split\n",
    "\n",
    "x_train, x_test, y_train, y_test = train_test_split(features, labels,\n",
    "test_size=0.2, shuffle=True)"
   ]
  },
  {
   "cell_type": "code",
   "execution_count": 14,
   "id": "8e551536-399c-40f8-8f8d-1013758e42b6",
   "metadata": {},
   "outputs": [
    {
     "data": {
      "text/plain": [
       "492636"
      ]
     },
     "execution_count": 14,
     "metadata": {},
     "output_type": "execute_result"
    }
   ],
   "source": [
    "x_train.size"
   ]
  },
  {
   "cell_type": "markdown",
   "id": "6ca3b65a-1098-4481-b932-6ddf03338404",
   "metadata": {},
   "source": [
    "### K-neighbours"
   ]
  },
  {
   "cell_type": "code",
   "execution_count": 15,
   "id": "565cf223-22cf-416d-bdf8-83de5e27fa55",
   "metadata": {},
   "outputs": [],
   "source": [
    "from sklearn.neighbors import KNeighborsClassifier\n",
    "import numpy as np"
   ]
  },
  {
   "cell_type": "code",
   "execution_count": 16,
   "id": "b71f42d6-25de-403b-aeec-f7a4e4648cd2",
   "metadata": {},
   "outputs": [],
   "source": [
    "nbrs = KNeighborsClassifier(n_neighbors=13).fit(x_train, y_train)"
   ]
  },
  {
   "cell_type": "code",
   "execution_count": null,
   "id": "fb040c94-03ac-4798-a241-6ac9c5652966",
   "metadata": {},
   "outputs": [],
   "source": []
  },
  {
   "cell_type": "code",
   "execution_count": 17,
   "id": "017148e9-7a25-4b6a-a4c3-4f5aaaff6e51",
   "metadata": {},
   "outputs": [],
   "source": [
    "result = nbrs.predict(x_test)"
   ]
  },
  {
   "cell_type": "code",
   "execution_count": 18,
   "id": "a8877ba6-5d33-43ee-afe1-7ae5dd21727e",
   "metadata": {},
   "outputs": [
    {
     "name": "stdout",
     "output_type": "stream",
     "text": [
      "0.9041322314049587\n",
      "0.8943375669595569\n",
      "0.9041322314049587\n",
      "0.9030391938392013\n"
     ]
    }
   ],
   "source": [
    "from sklearn.metrics import (accuracy_score, precision_score, recall_score, f1_score)\n",
    "\n",
    "print(accuracy_score(y_test, result))\n",
    "print(precision_score(y_test, result,  average='macro', zero_division=1))\n",
    "print(recall_score(y_test, result, average='weighted'))\n",
    "print(f1_score (y_test, result,  average='weighted'))"
   ]
  },
  {
   "cell_type": "markdown",
   "id": "a5365c8c-2444-4c9c-9e46-dcae84ceb0fa",
   "metadata": {},
   "source": [
    "### LSTM"
   ]
  },
  {
   "cell_type": "code",
   "execution_count": 3,
   "id": "3615ed03-7910-4efd-a181-3c0bf51e00eb",
   "metadata": {},
   "outputs": [],
   "source": [
    "data_from_file = pd.read_csv(\"completeSpamAssassin.csv\", thousands=\",\")"
   ]
  },
  {
   "cell_type": "code",
   "execution_count": 4,
   "id": "c57f948c-7dd0-4a4d-a6f8-d0a42c4a6aed",
   "metadata": {},
   "outputs": [
    {
     "data": {
      "text/html": [
       "<div>\n",
       "<style scoped>\n",
       "    .dataframe tbody tr th:only-of-type {\n",
       "        vertical-align: middle;\n",
       "    }\n",
       "\n",
       "    .dataframe tbody tr th {\n",
       "        vertical-align: top;\n",
       "    }\n",
       "\n",
       "    .dataframe thead th {\n",
       "        text-align: right;\n",
       "    }\n",
       "</style>\n",
       "<table border=\"1\" class=\"dataframe\">\n",
       "  <thead>\n",
       "    <tr style=\"text-align: right;\">\n",
       "      <th></th>\n",
       "      <th>Unnamed: 0</th>\n",
       "      <th>Label</th>\n",
       "    </tr>\n",
       "  </thead>\n",
       "  <tbody>\n",
       "    <tr>\n",
       "      <th>count</th>\n",
       "      <td>6046.000000</td>\n",
       "      <td>6046.000000</td>\n",
       "    </tr>\n",
       "    <tr>\n",
       "      <th>mean</th>\n",
       "      <td>3022.500000</td>\n",
       "      <td>0.313596</td>\n",
       "    </tr>\n",
       "    <tr>\n",
       "      <th>std</th>\n",
       "      <td>1745.474195</td>\n",
       "      <td>0.463993</td>\n",
       "    </tr>\n",
       "    <tr>\n",
       "      <th>min</th>\n",
       "      <td>0.000000</td>\n",
       "      <td>0.000000</td>\n",
       "    </tr>\n",
       "    <tr>\n",
       "      <th>25%</th>\n",
       "      <td>1511.250000</td>\n",
       "      <td>0.000000</td>\n",
       "    </tr>\n",
       "    <tr>\n",
       "      <th>50%</th>\n",
       "      <td>3022.500000</td>\n",
       "      <td>0.000000</td>\n",
       "    </tr>\n",
       "    <tr>\n",
       "      <th>75%</th>\n",
       "      <td>4533.750000</td>\n",
       "      <td>1.000000</td>\n",
       "    </tr>\n",
       "    <tr>\n",
       "      <th>max</th>\n",
       "      <td>6045.000000</td>\n",
       "      <td>1.000000</td>\n",
       "    </tr>\n",
       "  </tbody>\n",
       "</table>\n",
       "</div>"
      ],
      "text/plain": [
       "        Unnamed: 0        Label\n",
       "count  6046.000000  6046.000000\n",
       "mean   3022.500000     0.313596\n",
       "std    1745.474195     0.463993\n",
       "min       0.000000     0.000000\n",
       "25%    1511.250000     0.000000\n",
       "50%    3022.500000     0.000000\n",
       "75%    4533.750000     1.000000\n",
       "max    6045.000000     1.000000"
      ]
     },
     "execution_count": 4,
     "metadata": {},
     "output_type": "execute_result"
    }
   ],
   "source": [
    "data = data_from_file\n",
    "data.describe()"
   ]
  },
  {
   "cell_type": "code",
   "execution_count": 5,
   "id": "4ac67531-41f2-471e-88b2-921f16e59ac0",
   "metadata": {},
   "outputs": [
    {
     "data": {
      "text/plain": [
       "0       \\nSave up to 70% on Life Insurance.\\nWhy Spend...\n",
       "1       1) Fight The Risk of Cancer!\\nhttp://www.adcli...\n",
       "2       1) Fight The Risk of Cancer!\\nhttp://www.adcli...\n",
       "3       ##############################################...\n",
       "4       I thought you might like these:\\n1) Slim Down ...\n",
       "                              ...                        \n",
       "6041                                                empty\n",
       "6042                      ___           ___           ...\n",
       "6043    IN THIS ISSUE:01. Readers write\\n02. Extension...\n",
       "6044                                                empty\n",
       "6045                                                empty\n",
       "Name: Body, Length: 6046, dtype: object"
      ]
     },
     "execution_count": 5,
     "metadata": {},
     "output_type": "execute_result"
    }
   ],
   "source": [
    "data['Body']"
   ]
  },
  {
   "cell_type": "code",
   "execution_count": 6,
   "id": "f5fdd94f-23ea-49e6-8e10-ec0ee5e1d905",
   "metadata": {},
   "outputs": [
    {
     "data": {
      "text/plain": [
       "Unnamed: 0     int64\n",
       "Body          object\n",
       "Label          int64\n",
       "dtype: object"
      ]
     },
     "execution_count": 6,
     "metadata": {},
     "output_type": "execute_result"
    }
   ],
   "source": [
    "data.dtypes"
   ]
  },
  {
   "cell_type": "code",
   "execution_count": 7,
   "id": "4f8ae86b-39a5-411b-b514-69dd086e92d3",
   "metadata": {},
   "outputs": [],
   "source": [
    "sentences = data['Body'].astype('str')\n",
    "labels = data['Label']"
   ]
  },
  {
   "cell_type": "code",
   "execution_count": 11,
   "id": "a7eec85c-a00b-4d32-9ad6-9efde0ba89bd",
   "metadata": {},
   "outputs": [],
   "source": [
    "stop_words = set(stopwords.words('english'))"
   ]
  },
  {
   "cell_type": "code",
   "execution_count": 12,
   "id": "ef1e7e80-27ee-4715-9471-82fd7ad51d65",
   "metadata": {},
   "outputs": [],
   "source": [
    "def text_process(text):\n",
    "    text = text.translate(str.maketrans('', '', string.punctuation))\n",
    "    text = [word for word in text.split() if word.lower() not in stopwords.words('english')]\n",
    "    return \" \".join(text)"
   ]
  },
  {
   "cell_type": "code",
   "execution_count": 13,
   "id": "87d02dc5-3663-41f3-bbe9-276f3e11c6cb",
   "metadata": {},
   "outputs": [],
   "source": [
    "text_feat = sentences.apply(text_process)"
   ]
  },
  {
   "cell_type": "code",
   "execution_count": 14,
   "id": "ac5b858b-c7fd-4f30-aa4f-af51c5b96274",
   "metadata": {},
   "outputs": [
    {
     "data": {
      "text/plain": [
       "0       Save 70 Life Insurance Spend ToLife Quote Savi...\n",
       "1       1 Fight Risk Cancer httpwwwadclickwspcfmo315sp...\n",
       "2       1 Fight Risk Cancer httpwwwadclickwspcfmo315sp...\n",
       "3       Adult Club Offers FREE Membership INSTANT ACCE...\n",
       "4       thought might like 1 Slim Guaranteed lose 1012...\n",
       "                              ...                        \n",
       "6041                                                empty\n",
       "6042    oneten 271102 Insignificant Matters Heavily Ov...\n",
       "6043    ISSUE01 Readers write 02 Extension search 03 D...\n",
       "6044                                                empty\n",
       "6045                                                empty\n",
       "Name: Body, Length: 6046, dtype: object"
      ]
     },
     "execution_count": 14,
     "metadata": {},
     "output_type": "execute_result"
    }
   ],
   "source": [
    "text_feat"
   ]
  },
  {
   "cell_type": "code",
   "execution_count": 19,
   "id": "6bc9466f-de95-411d-90eb-9c9d373033ac",
   "metadata": {},
   "outputs": [],
   "source": [
    "from tensorflow.keras.preprocessing.text import Tokenizer\n",
    "tokenizer = Tokenizer(num_words=1000)\n",
    "tokenizer.fit_on_texts(text_feat)\n",
    "sequences = tokenizer.texts_to_sequences(text_feat)"
   ]
  },
  {
   "cell_type": "code",
   "execution_count": 16,
   "id": "24ae4d40-2727-4875-ac53-3c79e5a01f72",
   "metadata": {},
   "outputs": [],
   "source": [
    "from keras.preprocessing.sequence import pad_sequences\n",
    "sequences_matrix = pad_sequences(sequences, maxlen=150)"
   ]
  },
  {
   "cell_type": "code",
   "execution_count": 22,
   "id": "2e8e790f-7bcd-4ad6-b5de-f0d4e78879e2",
   "metadata": {},
   "outputs": [],
   "source": [
    "from sklearn.model_selection import train_test_split\n",
    "\n",
    "x_train, x_test, y_train, y_test = train_test_split(sequences_matrix, labels,\n",
    "test_size=0.2, shuffle=True)"
   ]
  },
  {
   "cell_type": "code",
   "execution_count": 23,
   "id": "85d1ed04-0f5d-4842-b8a1-5a85afff7313",
   "metadata": {},
   "outputs": [
    {
     "name": "stdout",
     "output_type": "stream",
     "text": [
      "Model: \"sequential_1\"\n",
      "_________________________________________________________________\n",
      " Layer (type)                Output Shape              Param #   \n",
      "=================================================================\n",
      " embedding_1 (Embedding)     (None, 150, 32)           32000     \n",
      "                                                                 \n",
      " lstm_1 (LSTM)               (None, 64)                24832     \n",
      "                                                                 \n",
      " dense_1 (Dense)             (None, 1)                 65        \n",
      "                                                                 \n",
      "=================================================================\n",
      "Total params: 56,897\n",
      "Trainable params: 56,897\n",
      "Non-trainable params: 0\n",
      "_________________________________________________________________\n"
     ]
    }
   ],
   "source": [
    "from tensorflow.keras import layers, losses, metrics, optimizers\n",
    "from tensorflow.keras.models import Sequential\n",
    "classifier = Sequential([\n",
    " layers.Embedding(input_dim=1000, output_dim=32,\n",
    "input_length=150),\n",
    " layers.LSTM(64),\n",
    " layers.Dense(1, activation='sigmoid')\n",
    "])\n",
    "classifier.summary()"
   ]
  },
  {
   "cell_type": "code",
   "execution_count": 25,
   "id": "367f1e8c-dead-4921-bfb6-57bdad970350",
   "metadata": {},
   "outputs": [
    {
     "name": "stdout",
     "output_type": "stream",
     "text": [
      "Epoch 1/5\n",
      "31/31 [==============================] - 4s 103ms/step - loss: 0.5064 - accuracy: 0.7453 - val_loss: 0.3223 - val_accuracy: 0.9019\n",
      "Epoch 2/5\n",
      "31/31 [==============================] - 3s 94ms/step - loss: 0.2489 - accuracy: 0.9173 - val_loss: 0.1934 - val_accuracy: 0.9318\n",
      "Epoch 3/5\n",
      "31/31 [==============================] - 3s 94ms/step - loss: 0.1486 - accuracy: 0.9398 - val_loss: 0.1586 - val_accuracy: 0.9267\n",
      "Epoch 4/5\n",
      "31/31 [==============================] - 3s 95ms/step - loss: 0.1806 - accuracy: 0.9367 - val_loss: 0.1073 - val_accuracy: 0.9504\n",
      "Epoch 5/5\n",
      "31/31 [==============================] - 3s 98ms/step - loss: 0.1030 - accuracy: 0.9573 - val_loss: 0.1013 - val_accuracy: 0.9576\n"
     ]
    },
    {
     "data": {
      "text/plain": [
       "<keras.callbacks.History at 0x1a08a507a90>"
      ]
     },
     "execution_count": 25,
     "metadata": {},
     "output_type": "execute_result"
    }
   ],
   "source": [
    "classifier.compile(loss=losses.binary_crossentropy,\n",
    "optimizer=optimizers.RMSprop(), metrics=['accuracy'])\n",
    "classifier.fit(x_train, y_train, batch_size=128,\n",
    "epochs=5, validation_split=0.2)"
   ]
  },
  {
   "cell_type": "code",
   "execution_count": 19,
   "id": "4c2697d7-203b-4cd1-b043-7edf7060f5ae",
   "metadata": {},
   "outputs": [],
   "source": [
    "# # Создание модели\n",
    "# from tensorflow.keras.models import Sequential\n",
    "# from tensorflow.keras import layers, losses, metrics, optimizers\n",
    "\n",
    "# sequence_length = 30\n",
    "\n",
    "# regressor = Sequential([layers.LSTM(units = 10, activation = 'relu', input_shape = (1, sequence_length)), layers.Dense(1)])"
   ]
  },
  {
   "cell_type": "code",
   "execution_count": 25,
   "id": "f2c29008-8158-4267-8b2f-08e1aaa4e977",
   "metadata": {},
   "outputs": [
    {
     "data": {
      "text/plain": [
       "<4836x90266 sparse matrix of type '<class 'numpy.float64'>'\n",
       "\twith 492636 stored elements in Compressed Sparse Row format>"
      ]
     },
     "execution_count": 25,
     "metadata": {},
     "output_type": "execute_result"
    }
   ],
   "source": [
    "# x_train"
   ]
  },
  {
   "cell_type": "code",
   "execution_count": 23,
   "id": "851d8fde-8746-4584-b07e-51e401e56ac2",
   "metadata": {},
   "outputs": [
    {
     "data": {
      "text/plain": [
       "<1210x90266 sparse matrix of type '<class 'numpy.float64'>'\n",
       "\twith 125107 stored elements in Compressed Sparse Row format>"
      ]
     },
     "execution_count": 23,
     "metadata": {},
     "output_type": "execute_result"
    }
   ],
   "source": [
    "# x_test"
   ]
  },
  {
   "cell_type": "code",
   "execution_count": 26,
   "id": "4dc702b5-754e-42e4-9853-8e4495293e1a",
   "metadata": {},
   "outputs": [],
   "source": [
    "# x_train_sequences = x_train.reshape(x_train.shape[0], 1, x_train.shape[1])\n",
    "# x_test_sequences = x_test.reshape(x_test.shape[0], 1, x_test.shape[1])"
   ]
  },
  {
   "cell_type": "code",
   "execution_count": 30,
   "id": "1f906694-e496-4215-9f11-66d4594691d1",
   "metadata": {},
   "outputs": [],
   "source": [
    "# from livelossplot import PlotLossesKerasTF\n",
    "\n",
    "# regressor.compile(loss='mean_squared_error', optimizer='adam', metrics=['mae'])\n",
    "# history = regressor.fit(x_train, y_train, batch_size=10, epochs=300, verbose=0, callbacks=[PlotLossesKerasTF()])"
   ]
  },
  {
   "cell_type": "code",
   "execution_count": 31,
   "id": "ef08968c-e7ae-4491-a2d2-4593e57f15ef",
   "metadata": {},
   "outputs": [],
   "source": [
    "# result = classifier.predict(x_test)"
   ]
  },
  {
   "cell_type": "code",
   "execution_count": 32,
   "id": "2a95f823-9723-4442-951f-db858866f3c0",
   "metadata": {},
   "outputs": [],
   "source": [
    "# from sklearn.metrics import (accuracy_score, precision_score, recall_score, f1_score)\n",
    "\n",
    "# print(accuracy_score(y_test, result))\n",
    "# print(precision_score(y_test, result,  average='macro', zero_division=1))\n",
    "# print(recall_score(y_test, result, average='weighted'))\n",
    "# print(f1_score (y_test, result,  average='weighted'))"
   ]
  },
  {
   "cell_type": "code",
   "execution_count": null,
   "id": "9094e7f2-0e88-4a11-bc6a-4f9e51b11f4d",
   "metadata": {},
   "outputs": [],
   "source": []
  }
 ],
 "metadata": {
  "kernelspec": {
   "display_name": "Python 3 (ipykernel)",
   "language": "python",
   "name": "python3"
  },
  "language_info": {
   "codemirror_mode": {
    "name": "ipython",
    "version": 3
   },
   "file_extension": ".py",
   "mimetype": "text/x-python",
   "name": "python",
   "nbconvert_exporter": "python",
   "pygments_lexer": "ipython3",
   "version": "3.10.2"
  }
 },
 "nbformat": 4,
 "nbformat_minor": 5
}
