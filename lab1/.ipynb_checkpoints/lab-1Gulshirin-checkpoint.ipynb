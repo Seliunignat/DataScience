{
 "cells": [
  {
   "cell_type": "code",
   "execution_count": 1,
   "id": "c604b872-dbd7-4783-a684-74bf547667c3",
   "metadata": {},
   "outputs": [
    {
     "name": "stdout",
     "output_type": "stream",
     "text": [
      "Лабораторная работа 1. Задача классификации\n"
     ]
    }
   ],
   "source": [
    "print('Лабораторная работа 1. Задача классификации')"
   ]
  },
  {
   "cell_type": "code",
   "execution_count": 54,
   "id": "f115f43f-6bd6-4123-919e-a8f79101cd98",
   "metadata": {},
   "outputs": [],
   "source": [
    "import pandas as pd\n",
    "\n",
    "data = pd.read_csv('full_data_flightdelay.csv')"
   ]
  },
  {
   "cell_type": "code",
   "execution_count": 2,
   "id": "5af705c8-5e02-43fe-8a4e-44c88b5ac2b1",
   "metadata": {},
   "outputs": [
    {
     "data": {
      "text/html": [
       "<div>\n",
       "<style scoped>\n",
       "    .dataframe tbody tr th:only-of-type {\n",
       "        vertical-align: middle;\n",
       "    }\n",
       "\n",
       "    .dataframe tbody tr th {\n",
       "        vertical-align: top;\n",
       "    }\n",
       "\n",
       "    .dataframe thead th {\n",
       "        text-align: right;\n",
       "    }\n",
       "</style>\n",
       "<table border=\"1\" class=\"dataframe\">\n",
       "  <thead>\n",
       "    <tr style=\"text-align: right;\">\n",
       "      <th></th>\n",
       "      <th>MONTH</th>\n",
       "      <th>DAY_OF_WEEK</th>\n",
       "      <th>DEP_DEL15</th>\n",
       "      <th>DISTANCE_GROUP</th>\n",
       "      <th>SEGMENT_NUMBER</th>\n",
       "      <th>CONCURRENT_FLIGHTS</th>\n",
       "      <th>NUMBER_OF_SEATS</th>\n",
       "      <th>AIRPORT_FLIGHTS_MONTH</th>\n",
       "      <th>AIRLINE_FLIGHTS_MONTH</th>\n",
       "      <th>AIRLINE_AIRPORT_FLIGHTS_MONTH</th>\n",
       "      <th>...</th>\n",
       "      <th>FLT_ATTENDANTS_PER_PASS</th>\n",
       "      <th>GROUND_SERV_PER_PASS</th>\n",
       "      <th>PLANE_AGE</th>\n",
       "      <th>LATITUDE</th>\n",
       "      <th>LONGITUDE</th>\n",
       "      <th>PRCP</th>\n",
       "      <th>SNOW</th>\n",
       "      <th>SNWD</th>\n",
       "      <th>TMAX</th>\n",
       "      <th>AWND</th>\n",
       "    </tr>\n",
       "  </thead>\n",
       "  <tbody>\n",
       "    <tr>\n",
       "      <th>count</th>\n",
       "      <td>6.489062e+06</td>\n",
       "      <td>6.489062e+06</td>\n",
       "      <td>6.489062e+06</td>\n",
       "      <td>6.489062e+06</td>\n",
       "      <td>6.489062e+06</td>\n",
       "      <td>6.489062e+06</td>\n",
       "      <td>6.489062e+06</td>\n",
       "      <td>6.489062e+06</td>\n",
       "      <td>6.489062e+06</td>\n",
       "      <td>6.489062e+06</td>\n",
       "      <td>...</td>\n",
       "      <td>6.489062e+06</td>\n",
       "      <td>6.489062e+06</td>\n",
       "      <td>6.489062e+06</td>\n",
       "      <td>6.489062e+06</td>\n",
       "      <td>6.489062e+06</td>\n",
       "      <td>6.489062e+06</td>\n",
       "      <td>6.489062e+06</td>\n",
       "      <td>6.489062e+06</td>\n",
       "      <td>6.489062e+06</td>\n",
       "      <td>6.489062e+06</td>\n",
       "    </tr>\n",
       "    <tr>\n",
       "      <th>mean</th>\n",
       "      <td>6.607062e+00</td>\n",
       "      <td>3.935598e+00</td>\n",
       "      <td>1.891441e-01</td>\n",
       "      <td>3.821102e+00</td>\n",
       "      <td>3.046890e+00</td>\n",
       "      <td>2.783675e+01</td>\n",
       "      <td>1.337397e+02</td>\n",
       "      <td>1.268458e+04</td>\n",
       "      <td>6.296058e+04</td>\n",
       "      <td>3.459251e+03</td>\n",
       "      <td>...</td>\n",
       "      <td>9.753707e-05</td>\n",
       "      <td>1.355612e-04</td>\n",
       "      <td>1.153211e+01</td>\n",
       "      <td>3.670581e+01</td>\n",
       "      <td>-9.425515e+01</td>\n",
       "      <td>1.037063e-01</td>\n",
       "      <td>3.159310e-02</td>\n",
       "      <td>9.152397e-02</td>\n",
       "      <td>7.146846e+01</td>\n",
       "      <td>8.341329e+00</td>\n",
       "    </tr>\n",
       "    <tr>\n",
       "      <th>std</th>\n",
       "      <td>3.396853e+00</td>\n",
       "      <td>1.995200e+00</td>\n",
       "      <td>3.916231e-01</td>\n",
       "      <td>2.382233e+00</td>\n",
       "      <td>1.757864e+00</td>\n",
       "      <td>2.151060e+01</td>\n",
       "      <td>4.645213e+01</td>\n",
       "      <td>8.839796e+03</td>\n",
       "      <td>3.438223e+04</td>\n",
       "      <td>4.251139e+03</td>\n",
       "      <td>...</td>\n",
       "      <td>8.644459e-05</td>\n",
       "      <td>4.649970e-05</td>\n",
       "      <td>6.935706e+00</td>\n",
       "      <td>5.500804e+00</td>\n",
       "      <td>1.790952e+01</td>\n",
       "      <td>3.432134e-01</td>\n",
       "      <td>3.170163e-01</td>\n",
       "      <td>7.281285e-01</td>\n",
       "      <td>1.835333e+01</td>\n",
       "      <td>3.607604e+00</td>\n",
       "    </tr>\n",
       "    <tr>\n",
       "      <th>min</th>\n",
       "      <td>1.000000e+00</td>\n",
       "      <td>1.000000e+00</td>\n",
       "      <td>0.000000e+00</td>\n",
       "      <td>1.000000e+00</td>\n",
       "      <td>1.000000e+00</td>\n",
       "      <td>1.000000e+00</td>\n",
       "      <td>4.400000e+01</td>\n",
       "      <td>1.100000e+03</td>\n",
       "      <td>5.582000e+03</td>\n",
       "      <td>1.000000e+00</td>\n",
       "      <td>...</td>\n",
       "      <td>0.000000e+00</td>\n",
       "      <td>7.134695e-06</td>\n",
       "      <td>0.000000e+00</td>\n",
       "      <td>1.844000e+01</td>\n",
       "      <td>-1.593460e+02</td>\n",
       "      <td>0.000000e+00</td>\n",
       "      <td>0.000000e+00</td>\n",
       "      <td>0.000000e+00</td>\n",
       "      <td>-1.000000e+01</td>\n",
       "      <td>0.000000e+00</td>\n",
       "    </tr>\n",
       "    <tr>\n",
       "      <th>25%</th>\n",
       "      <td>4.000000e+00</td>\n",
       "      <td>2.000000e+00</td>\n",
       "      <td>0.000000e+00</td>\n",
       "      <td>2.000000e+00</td>\n",
       "      <td>2.000000e+00</td>\n",
       "      <td>1.100000e+01</td>\n",
       "      <td>9.000000e+01</td>\n",
       "      <td>5.345000e+03</td>\n",
       "      <td>2.503400e+04</td>\n",
       "      <td>6.540000e+02</td>\n",
       "      <td>...</td>\n",
       "      <td>3.419267e-05</td>\n",
       "      <td>9.889412e-05</td>\n",
       "      <td>5.000000e+00</td>\n",
       "      <td>3.343600e+01</td>\n",
       "      <td>-1.063770e+02</td>\n",
       "      <td>0.000000e+00</td>\n",
       "      <td>0.000000e+00</td>\n",
       "      <td>0.000000e+00</td>\n",
       "      <td>5.900000e+01</td>\n",
       "      <td>5.820000e+00</td>\n",
       "    </tr>\n",
       "    <tr>\n",
       "      <th>50%</th>\n",
       "      <td>7.000000e+00</td>\n",
       "      <td>4.000000e+00</td>\n",
       "      <td>0.000000e+00</td>\n",
       "      <td>3.000000e+00</td>\n",
       "      <td>3.000000e+00</td>\n",
       "      <td>2.300000e+01</td>\n",
       "      <td>1.430000e+02</td>\n",
       "      <td>1.156200e+04</td>\n",
       "      <td>7.087800e+04</td>\n",
       "      <td>2.251000e+03</td>\n",
       "      <td>...</td>\n",
       "      <td>6.178236e-05</td>\n",
       "      <td>1.246511e-04</td>\n",
       "      <td>1.200000e+01</td>\n",
       "      <td>3.750500e+01</td>\n",
       "      <td>-8.790600e+01</td>\n",
       "      <td>0.000000e+00</td>\n",
       "      <td>0.000000e+00</td>\n",
       "      <td>0.000000e+00</td>\n",
       "      <td>7.400000e+01</td>\n",
       "      <td>7.830000e+00</td>\n",
       "    </tr>\n",
       "    <tr>\n",
       "      <th>75%</th>\n",
       "      <td>1.000000e+01</td>\n",
       "      <td>6.000000e+00</td>\n",
       "      <td>0.000000e+00</td>\n",
       "      <td>5.000000e+00</td>\n",
       "      <td>4.000000e+00</td>\n",
       "      <td>3.900000e+01</td>\n",
       "      <td>1.720000e+02</td>\n",
       "      <td>1.761500e+04</td>\n",
       "      <td>8.631200e+04</td>\n",
       "      <td>4.806000e+03</td>\n",
       "      <td>...</td>\n",
       "      <td>1.441659e-04</td>\n",
       "      <td>1.772872e-04</td>\n",
       "      <td>1.700000e+01</td>\n",
       "      <td>4.077900e+01</td>\n",
       "      <td>-8.093600e+01</td>\n",
       "      <td>2.000000e-02</td>\n",
       "      <td>0.000000e+00</td>\n",
       "      <td>0.000000e+00</td>\n",
       "      <td>8.600000e+01</td>\n",
       "      <td>1.029000e+01</td>\n",
       "    </tr>\n",
       "    <tr>\n",
       "      <th>max</th>\n",
       "      <td>1.200000e+01</td>\n",
       "      <td>7.000000e+00</td>\n",
       "      <td>1.000000e+00</td>\n",
       "      <td>1.100000e+01</td>\n",
       "      <td>1.500000e+01</td>\n",
       "      <td>1.090000e+02</td>\n",
       "      <td>3.370000e+02</td>\n",
       "      <td>3.525600e+04</td>\n",
       "      <td>1.177280e+05</td>\n",
       "      <td>2.183700e+04</td>\n",
       "      <td>...</td>\n",
       "      <td>3.484077e-04</td>\n",
       "      <td>2.289855e-04</td>\n",
       "      <td>3.200000e+01</td>\n",
       "      <td>6.116900e+01</td>\n",
       "      <td>-6.600200e+01</td>\n",
       "      <td>1.163000e+01</td>\n",
       "      <td>1.720000e+01</td>\n",
       "      <td>2.520000e+01</td>\n",
       "      <td>1.150000e+02</td>\n",
       "      <td>3.378000e+01</td>\n",
       "    </tr>\n",
       "  </tbody>\n",
       "</table>\n",
       "<p>8 rows × 22 columns</p>\n",
       "</div>"
      ],
      "text/plain": [
       "              MONTH   DAY_OF_WEEK     DEP_DEL15  DISTANCE_GROUP  \\\n",
       "count  6.489062e+06  6.489062e+06  6.489062e+06    6.489062e+06   \n",
       "mean   6.607062e+00  3.935598e+00  1.891441e-01    3.821102e+00   \n",
       "std    3.396853e+00  1.995200e+00  3.916231e-01    2.382233e+00   \n",
       "min    1.000000e+00  1.000000e+00  0.000000e+00    1.000000e+00   \n",
       "25%    4.000000e+00  2.000000e+00  0.000000e+00    2.000000e+00   \n",
       "50%    7.000000e+00  4.000000e+00  0.000000e+00    3.000000e+00   \n",
       "75%    1.000000e+01  6.000000e+00  0.000000e+00    5.000000e+00   \n",
       "max    1.200000e+01  7.000000e+00  1.000000e+00    1.100000e+01   \n",
       "\n",
       "       SEGMENT_NUMBER  CONCURRENT_FLIGHTS  NUMBER_OF_SEATS  \\\n",
       "count    6.489062e+06        6.489062e+06     6.489062e+06   \n",
       "mean     3.046890e+00        2.783675e+01     1.337397e+02   \n",
       "std      1.757864e+00        2.151060e+01     4.645213e+01   \n",
       "min      1.000000e+00        1.000000e+00     4.400000e+01   \n",
       "25%      2.000000e+00        1.100000e+01     9.000000e+01   \n",
       "50%      3.000000e+00        2.300000e+01     1.430000e+02   \n",
       "75%      4.000000e+00        3.900000e+01     1.720000e+02   \n",
       "max      1.500000e+01        1.090000e+02     3.370000e+02   \n",
       "\n",
       "       AIRPORT_FLIGHTS_MONTH  AIRLINE_FLIGHTS_MONTH  \\\n",
       "count           6.489062e+06           6.489062e+06   \n",
       "mean            1.268458e+04           6.296058e+04   \n",
       "std             8.839796e+03           3.438223e+04   \n",
       "min             1.100000e+03           5.582000e+03   \n",
       "25%             5.345000e+03           2.503400e+04   \n",
       "50%             1.156200e+04           7.087800e+04   \n",
       "75%             1.761500e+04           8.631200e+04   \n",
       "max             3.525600e+04           1.177280e+05   \n",
       "\n",
       "       AIRLINE_AIRPORT_FLIGHTS_MONTH  ...  FLT_ATTENDANTS_PER_PASS  \\\n",
       "count                   6.489062e+06  ...             6.489062e+06   \n",
       "mean                    3.459251e+03  ...             9.753707e-05   \n",
       "std                     4.251139e+03  ...             8.644459e-05   \n",
       "min                     1.000000e+00  ...             0.000000e+00   \n",
       "25%                     6.540000e+02  ...             3.419267e-05   \n",
       "50%                     2.251000e+03  ...             6.178236e-05   \n",
       "75%                     4.806000e+03  ...             1.441659e-04   \n",
       "max                     2.183700e+04  ...             3.484077e-04   \n",
       "\n",
       "       GROUND_SERV_PER_PASS     PLANE_AGE      LATITUDE     LONGITUDE  \\\n",
       "count          6.489062e+06  6.489062e+06  6.489062e+06  6.489062e+06   \n",
       "mean           1.355612e-04  1.153211e+01  3.670581e+01 -9.425515e+01   \n",
       "std            4.649970e-05  6.935706e+00  5.500804e+00  1.790952e+01   \n",
       "min            7.134695e-06  0.000000e+00  1.844000e+01 -1.593460e+02   \n",
       "25%            9.889412e-05  5.000000e+00  3.343600e+01 -1.063770e+02   \n",
       "50%            1.246511e-04  1.200000e+01  3.750500e+01 -8.790600e+01   \n",
       "75%            1.772872e-04  1.700000e+01  4.077900e+01 -8.093600e+01   \n",
       "max            2.289855e-04  3.200000e+01  6.116900e+01 -6.600200e+01   \n",
       "\n",
       "               PRCP          SNOW          SNWD          TMAX          AWND  \n",
       "count  6.489062e+06  6.489062e+06  6.489062e+06  6.489062e+06  6.489062e+06  \n",
       "mean   1.037063e-01  3.159310e-02  9.152397e-02  7.146846e+01  8.341329e+00  \n",
       "std    3.432134e-01  3.170163e-01  7.281285e-01  1.835333e+01  3.607604e+00  \n",
       "min    0.000000e+00  0.000000e+00  0.000000e+00 -1.000000e+01  0.000000e+00  \n",
       "25%    0.000000e+00  0.000000e+00  0.000000e+00  5.900000e+01  5.820000e+00  \n",
       "50%    0.000000e+00  0.000000e+00  0.000000e+00  7.400000e+01  7.830000e+00  \n",
       "75%    2.000000e-02  0.000000e+00  0.000000e+00  8.600000e+01  1.029000e+01  \n",
       "max    1.163000e+01  1.720000e+01  2.520000e+01  1.150000e+02  3.378000e+01  \n",
       "\n",
       "[8 rows x 22 columns]"
      ]
     },
     "execution_count": 2,
     "metadata": {},
     "output_type": "execute_result"
    }
   ],
   "source": [
    "data.describe()"
   ]
  },
  {
   "cell_type": "code",
   "execution_count": 3,
   "id": "1922448b-3339-4240-b8a9-0d1859567025",
   "metadata": {},
   "outputs": [
    {
     "data": {
      "text/plain": [
       "MONTH                              int64\n",
       "DAY_OF_WEEK                        int64\n",
       "DEP_DEL15                          int64\n",
       "DEP_TIME_BLK                      object\n",
       "DISTANCE_GROUP                     int64\n",
       "SEGMENT_NUMBER                     int64\n",
       "CONCURRENT_FLIGHTS                 int64\n",
       "NUMBER_OF_SEATS                    int64\n",
       "CARRIER_NAME                      object\n",
       "AIRPORT_FLIGHTS_MONTH              int64\n",
       "AIRLINE_FLIGHTS_MONTH              int64\n",
       "AIRLINE_AIRPORT_FLIGHTS_MONTH      int64\n",
       "AVG_MONTHLY_PASS_AIRPORT           int64\n",
       "AVG_MONTHLY_PASS_AIRLINE           int64\n",
       "FLT_ATTENDANTS_PER_PASS          float64\n",
       "GROUND_SERV_PER_PASS             float64\n",
       "PLANE_AGE                          int64\n",
       "DEPARTING_AIRPORT                 object\n",
       "LATITUDE                         float64\n",
       "LONGITUDE                        float64\n",
       "PREVIOUS_AIRPORT                  object\n",
       "PRCP                             float64\n",
       "SNOW                             float64\n",
       "SNWD                             float64\n",
       "TMAX                             float64\n",
       "AWND                             float64\n",
       "dtype: object"
      ]
     },
     "execution_count": 3,
     "metadata": {},
     "output_type": "execute_result"
    }
   ],
   "source": [
    "data.dtypes"
   ]
  },
  {
   "cell_type": "code",
   "execution_count": 5,
   "id": "15e03aa4-4f41-48f0-b69b-2ca0cf09f2c0",
   "metadata": {},
   "outputs": [
    {
     "data": {
      "text/plain": [
       "MONTH                            0\n",
       "DAY_OF_WEEK                      0\n",
       "DEP_DEL15                        0\n",
       "DEP_TIME_BLK                     0\n",
       "DISTANCE_GROUP                   0\n",
       "SEGMENT_NUMBER                   0\n",
       "CONCURRENT_FLIGHTS               0\n",
       "NUMBER_OF_SEATS                  0\n",
       "CARRIER_NAME                     0\n",
       "AIRPORT_FLIGHTS_MONTH            0\n",
       "AIRLINE_FLIGHTS_MONTH            0\n",
       "AIRLINE_AIRPORT_FLIGHTS_MONTH    0\n",
       "AVG_MONTHLY_PASS_AIRPORT         0\n",
       "AVG_MONTHLY_PASS_AIRLINE         0\n",
       "FLT_ATTENDANTS_PER_PASS          0\n",
       "GROUND_SERV_PER_PASS             0\n",
       "PLANE_AGE                        0\n",
       "DEPARTING_AIRPORT                0\n",
       "LATITUDE                         0\n",
       "LONGITUDE                        0\n",
       "PREVIOUS_AIRPORT                 0\n",
       "PRCP                             0\n",
       "SNOW                             0\n",
       "SNWD                             0\n",
       "TMAX                             0\n",
       "AWND                             0\n",
       "dtype: int64"
      ]
     },
     "execution_count": 5,
     "metadata": {},
     "output_type": "execute_result"
    }
   ],
   "source": [
    "data.isnull().sum()"
   ]
  },
  {
   "cell_type": "code",
   "execution_count": 6,
   "id": "52d065e8-fe58-4b0d-b5de-edd9d94ff8d9",
   "metadata": {},
   "outputs": [],
   "source": [
    "import seaborn as sns"
   ]
  },
  {
   "cell_type": "code",
   "execution_count": 7,
   "id": "fdb77cd4-48cd-43a3-ab04-7a38ac6a2115",
   "metadata": {},
   "outputs": [
    {
     "data": {
      "text/plain": [
       "<AxesSubplot:>"
      ]
     },
     "execution_count": 7,
     "metadata": {},
     "output_type": "execute_result"
    },
    {
     "data": {
      "image/png": "[encoded data removed]",
      "text/plain": [
       "<Figure size 842.4x595.44 with 2 Axes>"
      ]
     },
     "metadata": {},
     "output_type": "display_data"
    }
   ],
   "source": [
    "sns.set(rc={'figure.figsize':(11.7,8.27)})\n",
    "sns.heatmap(data.corr())"
   ]
  },
  {
   "cell_type": "code",
   "execution_count": 8,
   "id": "e57ef6ff-e459-4e85-8170-914dd9943edd",
   "metadata": {},
   "outputs": [
    {
     "data": {
      "text/plain": [
       "<bound method NDFrame.describe of 0          Southwest Airlines Co.\n",
       "1            Delta Air Lines Inc.\n",
       "2            Delta Air Lines Inc.\n",
       "3            Delta Air Lines Inc.\n",
       "4                Spirit Air Lines\n",
       "                    ...          \n",
       "6489057    Hawaiian Airlines Inc.\n",
       "6489058    Hawaiian Airlines Inc.\n",
       "6489059    Hawaiian Airlines Inc.\n",
       "6489060    Hawaiian Airlines Inc.\n",
       "6489061    Hawaiian Airlines Inc.\n",
       "Name: CARRIER_NAME, Length: 6489062, dtype: object>"
      ]
     },
     "execution_count": 8,
     "metadata": {},
     "output_type": "execute_result"
    }
   ],
   "source": [
    "pd.set_option('display.max_columns', 500)\n",
    "data.CARRIER_NAME.describe"
   ]
  },
  {
   "cell_type": "code",
   "execution_count": 55,
   "id": "ef64575f-eb71-4ab9-88fa-5515f4ecdfb8",
   "metadata": {},
   "outputs": [],
   "source": [
    "from sklearn.neural_network import MLPClassifier\n",
    "from sklearn.model_selection import train_test_split\n",
    " \n",
    "    \n",
    "dataset1 = data[data.apply(lambda x: x['DEP_DEL15']==1, axis=1)].sample(n=10000)\n",
    "dataset0 = data[data.apply(lambda x: x['DEP_DEL15']==0, axis=1)].sample(n=10000)\n",
    "data = pd.concat([dataset1, dataset0])\n",
    "len(data)\n",
    "\n",
    "dataset_train, dataset_test = train_test_split(data, test_size=0.2, shuffle = True, stratify = data.DEP_DEL15)\n",
    "\n",
    "x_train = dataset_train.drop(columns=['DEP_DEL15', 'DEP_TIME_BLK', 'CARRIER_NAME', 'DEPARTING_AIRPORT', 'PREVIOUS_AIRPORT'])\n",
    "y_train = dataset_train.DEP_DEL15\n",
    "\n",
    "x_test = dataset_test.drop(columns=['DEP_DEL15', 'DEP_TIME_BLK', 'CARRIER_NAME', 'DEPARTING_AIRPORT', 'PREVIOUS_AIRPORT'])\n",
    "y_test = dataset_test.DEP_DEL15\n",
    "\n",
    "clf = MLPClassifier(random_state=1, max_iter=300).fit(x_train, y_train)"
   ]
  },
  {
   "cell_type": "code",
   "execution_count": 56,
   "id": "82bf3c79-f0a5-4140-9487-0313a0eb4e1c",
   "metadata": {},
   "outputs": [
    {
     "data": {
      "text/plain": [
       "0.5483333333333333"
      ]
     },
     "execution_count": 56,
     "metadata": {},
     "output_type": "execute_result"
    }
   ],
   "source": [
    "result = clf.predict(x_test)\n",
    "\n",
    "from sklearn.metrics import accuracy_score\n",
    "accuracy_score(y_test, result)"
   ]
  },
  {
   "cell_type": "code",
   "execution_count": 57,
   "id": "19933be8-c0fe-4ec5-9ad4-1f02ee66fa54",
   "metadata": {},
   "outputs": [
    {
     "name": "stdout",
     "output_type": "stream",
     "text": [
      "0.498125\n",
      "0.4899349799706101\n",
      "0.3918795095309193\n"
     ]
    }
   ],
   "source": [
    "from sklearn.metrics import recall_score, precision_score, f1_score\n",
    "\n",
    "print(recall_score(y_test, result, average='macro', zero_division=1))\n",
    "print(precision_score(y_test, result, average='macro', zero_division=1))\n",
    "print(f1_score(y_test, result, average='macro', zero_division=1))"
   ]
  },
  {
   "cell_type": "code",
   "execution_count": null,
   "id": "eb4be145-c978-4f19-89c0-ef1be2c45c93",
   "metadata": {},
   "outputs": [],
   "source": []
  },
  {
   "cell_type": "code",
   "execution_count": null,
   "id": "8b6815bf-2342-4c4b-b28e-814960c93d3e",
   "metadata": {},
   "outputs": [],
   "source": []
  }
 ],
 "metadata": {
  "kernelspec": {
   "display_name": "Python 3 (ipykernel)",
   "language": "python",
   "name": "python3"
  },
  "language_info": {
   "codemirror_mode": {
    "name": "ipython",
    "version": 3
   },
   "file_extension": ".py",
   "mimetype": "text/x-python",
   "name": "python",
   "nbconvert_exporter": "python",
   "pygments_lexer": "ipython3",
   "version": "3.10.2"
  }
 },
 "nbformat": 4,
 "nbformat_minor": 5
}
